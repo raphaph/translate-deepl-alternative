{
 "cells": [
  {
   "cell_type": "code",
   "execution_count": 67,
   "metadata": {},
   "outputs": [],
   "source": [
    "from dotenv import load_dotenv\n",
    "import os\n",
    "import deepl # metodo 1\n",
    "import requests # metodo 2\n",
    "import pandas as pd\n",
    "# Carrega as variáveis de ambiente do arquivo .env\n",
    "load_dotenv()\n",
    "\n",
    "api_key = os.getenv(\"DEEPL_KEY\")"
   ]
  },
  {
   "cell_type": "markdown",
   "metadata": {},
   "source": [
    "##### Utilizando a LIB da DeepL"
   ]
  },
  {
   "cell_type": "code",
   "execution_count": 32,
   "metadata": {},
   "outputs": [
    {
     "name": "stdout",
     "output_type": "stream",
     "text": [
      "Hello, world!\n"
     ]
    }
   ],
   "source": [
    "# Test\n",
    "translator = deepl.Translator(api_key)\n",
    "\n",
    "result = translator.translate_text(\"Olá, mundo!\", target_lang=\"EN-US\")\n",
    "print(result.text)  "
   ]
  },
  {
   "cell_type": "code",
   "execution_count": 33,
   "metadata": {},
   "outputs": [
    {
     "name": "stdout",
     "output_type": "stream",
     "text": [
      "Hello, world, testing!\n"
     ]
    }
   ],
   "source": [
    "# Function para Dataframe\n",
    "# Linguas suportadas: https://www.deepl.com/pt-BR/docs-api/glossaries/list-glossary-languages\n",
    "def TranslateDeepL(text):\n",
    "    result = result = translator.translate_text(text, target_lang=\"EN-US\")\n",
    "    \n",
    "    return result\n",
    "\n",
    "print(TranslateDeepL(\"Olá, mundo, testando!\"))"
   ]
  },
  {
   "cell_type": "markdown",
   "metadata": {},
   "source": [
    "##### Utilizando API Rest"
   ]
  },
  {
   "cell_type": "code",
   "execution_count": 75,
   "metadata": {},
   "outputs": [
    {
     "name": "stdout",
     "output_type": "stream",
     "text": [
      "Life is one, enjoy it!\n"
     ]
    }
   ],
   "source": [
    "def ReqDeepLTranslate(text):\n",
    "    r = requests.post(\n",
    "                url=\"https://api-free.deepl.com/v2/translate\",\n",
    "                data={\n",
    "                    \"target_lang\": \"EN-US\",\n",
    "                    \"auth_key\": api_key,\n",
    "                    \"text\": text,\n",
    "                },\n",
    "            )\n",
    "\n",
    "    return r.json()[\"translations\"][0][\"text\"]\n",
    "\n",
    "print(ReqDeepLTranslate(\"A vida é uma só, aproveite!\"))"
   ]
  }
 ],
 "metadata": {
  "kernelspec": {
   "display_name": "Python 3",
   "language": "python",
   "name": "python3"
  },
  "language_info": {
   "codemirror_mode": {
    "name": "ipython",
    "version": 3
   },
   "file_extension": ".py",
   "mimetype": "text/x-python",
   "name": "python",
   "nbconvert_exporter": "python",
   "pygments_lexer": "ipython3",
   "version": "3.11.8"
  }
 },
 "nbformat": 4,
 "nbformat_minor": 2
}
